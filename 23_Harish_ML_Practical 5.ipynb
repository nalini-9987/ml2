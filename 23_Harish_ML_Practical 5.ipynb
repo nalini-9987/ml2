{
 "cells": [
  {
   "cell_type": "markdown",
   "id": "bf47f46e",
   "metadata": {},
   "source": [
    "# Aim : Implementing a decision tree algorithm on a given dataset."
   ]
  },
  {
   "cell_type": "code",
   "execution_count": 2,
   "id": "38773d31",
   "metadata": {},
   "outputs": [
    {
     "ename": "SyntaxError",
     "evalue": "invalid syntax (115550197.py, line 7)",
     "output_type": "error",
     "traceback": [
      "\u001b[1;36m  Input \u001b[1;32mIn [2]\u001b[1;36m\u001b[0m\n\u001b[1;33m    sudo apt-get install graphviz\u001b[0m\n\u001b[1;37m         ^\u001b[0m\n\u001b[1;31mSyntaxError\u001b[0m\u001b[1;31m:\u001b[0m invalid syntax\n"
     ]
    }
   ],
   "source": [
    "import pandas as pd\n",
    "import numpy as np\n",
    "import matplotlib.pyplot as plt\n",
    "%matplotlib inline\n",
    "import seaborn as sns\n",
    "!pip install dtreeviz\n",
    "sudo apt-get install graphviz"
   ]
  },
  {
   "cell_type": "code",
   "execution_count": null,
   "id": "9a4d6374",
   "metadata": {},
   "outputs": [],
   "source": [
    "from sklearn.datasets import load_iris"
   ]
  },
  {
   "cell_type": "code",
   "execution_count": null,
   "id": "dbcb3d84",
   "metadata": {},
   "outputs": [],
   "source": [
    "df = load_iris()"
   ]
  },
  {
   "cell_type": "code",
   "execution_count": null,
   "id": "74550d6c",
   "metadata": {},
   "outputs": [],
   "source": [
    "x = df.data\n",
    "y = df.target"
   ]
  },
  {
   "cell_type": "code",
   "execution_count": null,
   "id": "13a0dcd5",
   "metadata": {},
   "outputs": [],
   "source": [
    "df.DESCR"
   ]
  },
  {
   "cell_type": "code",
   "execution_count": null,
   "id": "c9d43d94",
   "metadata": {},
   "outputs": [],
   "source": [
    "# Checking Null values(Nan)\n",
    "np.isnan(y).sum()"
   ]
  },
  {
   "cell_type": "code",
   "execution_count": null,
   "id": "aa26161d",
   "metadata": {},
   "outputs": [],
   "source": [
    "from sklearn.tree import DecisionTreeClassifier"
   ]
  },
  {
   "cell_type": "code",
   "execution_count": null,
   "id": "47005889",
   "metadata": {},
   "outputs": [],
   "source": [
    "dt = DecisionTreeClassifier()"
   ]
  },
  {
   "cell_type": "code",
   "execution_count": null,
   "id": "e9854950",
   "metadata": {},
   "outputs": [],
   "source": [
    "dt.fit(x,y)"
   ]
  },
  {
   "cell_type": "code",
   "execution_count": null,
   "id": "33ad1b6e",
   "metadata": {},
   "outputs": [],
   "source": [
    "from sklearn import tree\n",
    "plt.figure(figsize = (15,10))\n",
    "tree.plot_tree(dt,filled = True)"
   ]
  },
  {
   "cell_type": "code",
   "execution_count": null,
   "id": "9ecaddc9",
   "metadata": {},
   "outputs": [],
   "source": [
    "from dtreeviz.trees import *"
   ]
  },
  {
   "cell_type": "code",
   "execution_count": null,
   "id": "bfefd949",
   "metadata": {},
   "outputs": [],
   "source": [
    "# prepare the data\n",
    "X = df.data\n",
    "y = df.target\n",
    "\n",
    "from sklearn.model_selection import train_test_split\n",
    "X_train, X_test, y_train, y_test = train_test_split(X, y, test_size = 0.2, random_state = 42)\n",
    "\n",
    "# fit the classifier\n",
    "clf = tree.DecisionTreeClassifier(max_depth = 3, random_state = 42)\n",
    "clf.fit(X_train, y_train)"
   ]
  },
  {
   "cell_type": "code",
   "execution_count": null,
   "id": "924b9340",
   "metadata": {},
   "outputs": [],
   "source": [
    "tree.plot_tree(clf)"
   ]
  },
  {
   "cell_type": "code",
   "execution_count": null,
   "id": "7923a1ac",
   "metadata": {},
   "outputs": [],
   "source": [
    "tree.plot_tree(clf,\n",
    "               feature_names = df.feature_names, \n",
    "               class_names = df.target_names,\n",
    "               rounded = True, \n",
    "               filled = True);"
   ]
  },
  {
   "cell_type": "code",
   "execution_count": null,
   "id": "43f393e2",
   "metadata": {},
   "outputs": [],
   "source": [
    "viz = dtreeviz(clf, \n",
    "               x_data = X_train,\n",
    "               y_data = y_train,\n",
    "               target_name = 'class',\n",
    "               feature_names = df.feature_names, \n",
    "               class_names = list(df.target_names), \n",
    "               title = \"Decision Tree - Iris data set\")\n",
    "viz"
   ]
  },
  {
   "cell_type": "code",
   "execution_count": null,
   "id": "bad0bcf7",
   "metadata": {},
   "outputs": [],
   "source": [
    "viz = dtreeviz(clf, \n",
    "               x_data = X_train,\n",
    "               y_data = y_train,\n",
    "               target_name = 'class',\n",
    "               feature_names = df.feature_names, \n",
    "               class_names = list(df.target_names),\n",
    "               title = \"Decision Tree - Iris data set\",\n",
    "               #orientation=\"LR\", \n",
    "               X = X_test[0])  \n",
    "viz"
   ]
  },
  {
   "cell_type": "code",
   "execution_count": null,
   "id": "acdea834",
   "metadata": {},
   "outputs": [],
   "source": [
    "print(explain_prediction_path(clf, X_test[0], \n",
    "                              feature_names = df.feature_names, \n",
    "                              explanation_type = \"plain_english\"))"
   ]
  },
  {
   "cell_type": "code",
   "execution_count": null,
   "id": "ea5aa466",
   "metadata": {},
   "outputs": [],
   "source": [
    "from sklearn.datasets import load_boston"
   ]
  },
  {
   "cell_type": "code",
   "execution_count": null,
   "id": "62ab5a96",
   "metadata": {},
   "outputs": [],
   "source": [
    "boston = load_boston()"
   ]
  },
  {
   "cell_type": "code",
   "execution_count": null,
   "id": "b8a3df96",
   "metadata": {},
   "outputs": [],
   "source": [
    "# prepare the data\n",
    "X = boston.data\n",
    "y = boston.target\n",
    "X_train, X_test, y_train, y_test = train_test_split(X, y, test_size = 0.2, random_state = 42)\n",
    "\n",
    "# fit the regressor\n",
    "reg = tree.DecisionTreeRegressor(max_depth = 2, random_state = 42)\n",
    "reg.fit(X_train, y_train)\n",
    "\n",
    "# plot the tree\n",
    "viz = dtreeviz(reg,\n",
    "               x_data = X_train,\n",
    "               y_data = y_train,\n",
    "               target_name = 'price',\n",
    "               feature_names = boston.feature_names,\n",
    "               title = \"Decision Tree - Boston housing\",\n",
    "               show_node_labels = True)\n",
    "viz"
   ]
  },
  {
   "cell_type": "code",
   "execution_count": null,
   "id": "03310b30",
   "metadata": {},
   "outputs": [],
   "source": []
  }
 ],
 "metadata": {
  "kernelspec": {
   "display_name": "Python 3 (ipykernel)",
   "language": "python",
   "name": "python3"
  },
  "language_info": {
   "codemirror_mode": {
    "name": "ipython",
    "version": 3
   },
   "file_extension": ".py",
   "mimetype": "text/x-python",
   "name": "python",
   "nbconvert_exporter": "python",
   "pygments_lexer": "ipython3",
   "version": "3.9.12"
  }
 },
 "nbformat": 4,
 "nbformat_minor": 5
}
